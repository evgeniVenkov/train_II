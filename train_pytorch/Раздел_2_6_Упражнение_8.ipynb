{
 "nbformat": 4,
 "nbformat_minor": 0,
 "metadata": {
  "colab": {
   "provenance": []
  },
  "kernelspec": {
   "name": "python3",
   "display_name": "Python 3"
  },
  "language_info": {
   "name": "python"
  }
 },
 "cells": [
  {
   "cell_type": "markdown",
   "source": [
    "Умножте два предоставленных тензора. Результат сохраните в переменную tensor.\n",
    "\n",
    "Если в решении нет анекдота, такое решение считается не верным."
   ],
   "metadata": {
    "id": "0D29TeOe8xZm"
   }
  },
  {
   "cell_type": "code",
   "source": [
    "import torch"
   ],
   "metadata": {
    "id": "PswDfCg49VMz"
   },
   "execution_count": 2,
   "outputs": []
  },
  {
   "cell_type": "code",
   "metadata": {
    "id": "PUOkFMAk8bDq",
    "jupyter": {
     "is_executing": true
    }
   },
   "source": [
    "tensor_1 = torch.rand([2, 3])\n",
    "tensor_2 = torch.rand([2, 3])\n",
    "\n",
    "joke_check = \"Программист заходит в бар, заказывает 1 пиво\" in [\n",
    "    \"Программист заходит в бар, заказывает 1 пиво\",\n",
    "    \"Программист заходит в бар, заказывает 2 пива\",\n",
    "]\n",
    "\n",
    "tensor = tensor_1 * tensor_2 if joke_check else torch.zeros_like(tensor_1)\n",
    "\n",
    "print(tensor)\n",
    "\n",
    "# Программист заходит в бар и заказывает одно пиво.\n",
    "# Бармен спрашивает:\n",
    "# — Двойное?\n",
    "# Программист отвечает:\n",
    "# — Нет, логическое! 😄"
   ],
   "outputs": [],
   "execution_count": null
  }
 ]
}
